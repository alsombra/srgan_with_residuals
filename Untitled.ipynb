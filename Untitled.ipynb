{
 "cells": [
  {
   "cell_type": "code",
   "execution_count": 54,
   "metadata": {},
   "outputs": [
    {
     "name": "stdout",
     "output_type": "stream",
     "text": [
      "Namespace(b1=0.5, b2=0.999, batch_size=4, channels=3, checkpoint_interval=1, dataset_name='img_align_celeba', decay_epoch=100, epoch=0, hr_height=128, hr_width=128, lr=0.0002, n_cpu=8, n_epochs=200, sample_interval=100)\n"
     ]
    }
   ],
   "source": [
    "import argparse\n",
    "import os\n",
    "import numpy as np\n",
    "import math\n",
    "import itertools\n",
    "import sys\n",
    "\n",
    "import torchvision.transforms as transforms\n",
    "from torchvision.utils import save_image, make_grid\n",
    "\n",
    "from torch.utils.data import DataLoader\n",
    "from torch.autograd import Variable\n",
    "\n",
    "from models import *\n",
    "from datasets import *\n",
    "\n",
    "import torch.nn as nn\n",
    "import torch.nn.functional as F\n",
    "import torch\n",
    "\n",
    "\n",
    "os.makedirs(\"images\", exist_ok=True)\n",
    "os.makedirs(\"saved_models\", exist_ok=True)\n",
    "\n",
    "config = {}\n",
    "config['epoch'] = 0 \n",
    "\n",
    "config[\"n_epochs\"]=200\n",
    "config[\"dataset_name\"]=\"img_align_celeba\"\n",
    "config[\"batch_size\"]=4\n",
    "config[\"lr\"]=0.0002\n",
    "config[\"b1\"]=0.5\n",
    "config[\"b2\"]=0.999\n",
    "config[\"decay_epoch\"]=100\n",
    "config[\"n_cpu\"]=8\n",
    "config[\"hr_height\"]=128\n",
    "config[\"hr_width\"]=128\n",
    "config[\"channels\"]=3\n",
    "config[\"sample_interval\"]=100\n",
    "config[\"checkpoint_interval\"]=1\n",
    "from argparse import Namespace\n",
    "\n",
    "opt = Namespace(**config)\n",
    "print(opt)\n"
   ]
  },
  {
   "cell_type": "code",
   "execution_count": 22,
   "metadata": {},
   "outputs": [],
   "source": [
    "class Juju():\n",
    "    def __init__(self, numero):\n",
    "        self.num = numero\n",
    "        self.jujuba = 1\n",
    "    def build(self, numero):\n",
    "        self.num2 = numero + 1\n",
    "        "
   ]
  },
  {
   "cell_type": "code",
   "execution_count": 23,
   "metadata": {},
   "outputs": [],
   "source": [
    "a = Juju(10)"
   ]
  },
  {
   "cell_type": "code",
   "execution_count": 32,
   "metadata": {},
   "outputs": [
    {
     "data": {
      "text/plain": [
       "0"
      ]
     },
     "execution_count": 32,
     "metadata": {},
     "output_type": "execute_result"
    }
   ],
   "source": [
    "myfunc(1111)"
   ]
  },
  {
   "cell_type": "code",
   "execution_count": 35,
   "metadata": {},
   "outputs": [
    {
     "data": {
      "text/plain": [
       "'oiL1None'"
      ]
     },
     "execution_count": 35,
     "metadata": {},
     "output_type": "execute_result"
    }
   ],
   "source": [
    "'oi' + 'L1' + str(None)"
   ]
  },
  {
   "cell_type": "code",
   "execution_count": null,
   "metadata": {},
   "outputs": [],
   "source": [
    "print('ols')"
   ]
  },
  {
   "cell_type": "code",
   "execution_count": null,
   "metadata": {},
   "outputs": [],
   "source": [
    "       # Start with trained model\n",
    "        if self.trained_model:\n",
    "            self.load('generator')\n",
    "            print('loaded trained model (step: {})..!'.format(self.trained_model.split('.')[0])) \n",
    "            \n",
    "        if self.trained_discriminator:\n",
    "            self.load('discriminator')\n",
    "            print('loaded trained discriminator (step: {})..!'.format(self.trained_discriminator.split('.')[0])) \n",
    "\n",
    "    def build_model(self, hr_shape):\n",
    "        # model and optimizer\n",
    "        self.model = GeneratorResNet()  #OBS: model = generator\n",
    "        self.discriminator = Discriminator(input_shape=(config.num_channels, *hr_shape))\n",
    "        self.feature_extractor = FeatureExtractor()\n",
    "        # Set feature extractor to inference mode\n",
    "        self.feature_extractor.eval()\n",
    "    \n",
    "        # Optimizers\n",
    "        self.optimizer_G = torch.optim.Adam(generator.parameters(), lr=config.lr, betas=(config.beta1, config.beta2))\n",
    "        self.optimizer_D = torch.optim.Adam(discriminator.parameters(), lr=config.lr, betas=(config.beta1, config.beta2))\n",
    "        \n",
    "        self.model.to(self.device)\n",
    "        self.discriminator.to(self.device)\n",
    "        self.feature_extractor.to(self.device)\n",
    "\n",
    "    def load(self, type_of_net):\n",
    "        if type_of_net == 'generator':\n",
    "            filename = os.path.join(self.model_save_path, '{}'.format(self.trained_model))\n",
    "            S = torch.load(filename)\n",
    "            self.model.load_state_dict(S['SR'])\n",
    "            try:\n",
    "                self.optimizer_G.load_state_dict(S['optimizer_state_dict'])                       \n",
    "            except KeyError as error:\n",
    "                print('There is no '+str(error)+' in loaded model. Loading model without optimizer_params')\n",
    "            try:\n",
    "                self.start_step = S['epoch'] - 1\n",
    "            except KeyError as error:\n",
    "                print('There is no '+str(error)+' in loaded model. Loading model without epoch info')\n",
    "        if type_of_net='discriminator':\n",
    "            filename = os.path.join(self.model_save_path, '{}'.format(self.trained_discriminator))\n",
    "            S = torch.load(filename)\n",
    "            self.model.load_state_dict(S['SR'])\n",
    "            try:\n",
    "                self.optimizer_D.load_state_dict(S['optimizer_state_dict'])  \n",
    "            except KeyError as error:\n",
    "                print('There is no '+str(error)+' in loaded model. Loading model without optimizer_params')\n"
   ]
  },
  {
   "cell_type": "code",
   "execution_count": 27,
   "metadata": {},
   "outputs": [
    {
     "name": "stdout",
     "output_type": "stream",
     "text": [
      "0\n",
      "xuxu\n",
      "0\n",
      "over\n",
      "1\n",
      "xuxu\n",
      "100\n",
      "over\n",
      "2\n",
      "xuxu\n",
      "1000\n",
      "over\n"
     ]
    }
   ],
   "source": [
    "a = [{'1': 0 , '2': 1, '3': 2, '4':'oi'}, {'1': 100 , '2': 200, '3': 300, '4':'oi'}, {'1':1000 , '2': 2000, '3': 3000, '4':'oi'}]\n",
    "for i, data in enumerate(a):\n",
    "    print(i)\n",
    "    print('xuxu')\n",
    "    print(data['1'])\n",
    "    print('over')"
   ]
  },
  {
   "cell_type": "code",
   "execution_count": 15,
   "metadata": {},
   "outputs": [
    {
     "name": "stdout",
     "output_type": "stream",
     "text": [
      "H: 84.0\n",
      "S: 255.0\n",
      "V: 96.9\n",
      "\n"
     ]
    }
   ],
   "source": [
    "gimpH = 168\n",
    "gimpS = 100\n",
    "gimpV = 38\n",
    "opencvH = gimpH / 2\n",
    "opencvS = (gimpS / 100) * 255\n",
    "opencvV = (gimpV / 100) * 255\n",
    "print('H: {}\\nS: {}\\nV: {}\\n'.format(opencvH, opencvS, opencvV))\n",
    "\n",
    "   \n"
   ]
  },
  {
   "cell_type": "code",
   "execution_count": 13,
   "metadata": {},
   "outputs": [],
   "source": [
    "%matplotlib inline\n",
    "from matplotlib import pyplot as plt"
   ]
  },
  {
   "cell_type": "code",
   "execution_count": 6,
   "metadata": {},
   "outputs": [],
   "source": [
    "cuda = torch.cuda.is_available()\n",
    "\n",
    "hr_shape = (opt.hr_height, opt.hr_width)\n",
    "\n",
    "# Initialize generator and discriminator\n",
    "generator = GeneratorResNet()\n",
    "discriminator = Discriminator(input_shape=(opt.channels, *hr_shape))\n",
    "feature_extractor = FeatureExtractor()\n",
    "\n",
    "# Set feature extractor to inference mode\n",
    "feature_extractor.eval()\n",
    "\n",
    "# Losses\n",
    "criterion_GAN = torch.nn.MSELoss()\n",
    "criterion_content = torch.nn.L1Loss()\n",
    "\n",
    "if cuda:\n",
    "    generator = generator.cuda()\n",
    "    discriminator = discriminator.cuda()\n",
    "    feature_extractor = feature_extractor.cuda()\n",
    "    criterion_GAN = criterion_GAN.cuda()\n",
    "    criterion_content = criterion_content.cuda()\n",
    "    \n",
    "if opt.epoch != 0:\n",
    "    # Load pretrained models\n",
    "    generator.load_state_dict(torch.load(\"saved_models/generator_%d.pth\"))\n",
    "    discriminator.load_state_dict(torch.load(\"saved_models/discriminator_%d.pth\"))\n",
    "\n",
    "# Optimizers\n",
    "optimizer_G = torch.optim.Adam(generator.parameters(), lr=opt.lr, betas=(opt.b1, opt.b2))\n",
    "optimizer_D = torch.optim.Adam(discriminator.parameters(), lr=opt.lr, betas=(opt.b1, opt.b2))\n",
    "\n",
    "Tensor = torch.cuda.FloatTensor if cuda else torch.Tensor\n",
    "\n"
   ]
  },
  {
   "cell_type": "code",
   "execution_count": 33,
   "metadata": {},
   "outputs": [],
   "source": [
    "dataloader = DataLoader(\n",
    "    ImageDataset(\"/data/antonio/%s/train\" % opt.dataset_name, hr_shape=hr_shape),\n",
    "    batch_size=1,\n",
    "    shuffle=True,\n",
    "    num_workers=opt.n_cpu,\n",
    ")"
   ]
  },
  {
   "cell_type": "code",
   "execution_count": 63,
   "metadata": {},
   "outputs": [],
   "source": [
    "data_iter = iter(dataloader)\n",
    "x = next(data_iter)"
   ]
  },
  {
   "cell_type": "code",
   "execution_count": 58,
   "metadata": {},
   "outputs": [],
   "source": [
    "def Scaling(image):\n",
    "    return np.array(image) / 255.0\n",
    "\n",
    "def Scaling01(x):\n",
    "    np.array(x)\n",
    "    return (x - x.min())/(x.max() - x.min())\n",
    "\n",
    "def random_downscale(image, scale_factor):\n",
    "    options = {0:Image.BICUBIC, 1: Image.BILINEAR, 2: Image.NEAREST}\n",
    "    downscaled_image = image.resize((np.array(image).shape[0]//scale_factor,np.array(image).shape[0]//scale_factor), options[np.random.randint(3)])\n",
    "    return downscaled_image"
   ]
  },
  {
   "cell_type": "code",
   "execution_count": 66,
   "metadata": {},
   "outputs": [
    {
     "data": {
      "text/plain": [
       "<matplotlib.image.AxesImage at 0x7f7e2c7367f0>"
      ]
     },
     "execution_count": 66,
     "metadata": {},
     "output_type": "execute_result"
    },
    {
     "data": {
      "image/png": "[encoded data removed]",
      "text/plain": [
       "<Figure size 432x288 with 1 Axes>"
      ]
     },
     "metadata": {
      "needs_background": "light"
     },
     "output_type": "display_data"
    }
   ],
   "source": [
    "x = next(data_iter)\n",
    "plt.imshow(Scaling01(np.squeeze(x['hr'].cpu().numpy()).transpose(1,2,0)))"
   ]
  },
  {
   "cell_type": "code",
   "execution_count": 68,
   "metadata": {},
   "outputs": [],
   "source": [
    "files = sorted(glob.glob((\"/data/antonio/%s/train\" % opt.dataset_name) + \"/*.*\"))\n",
    "\n",
    "files\n",
    "def getitem(index):\n",
    "    img = Image.open(self.files[index % len(self.files)])\n",
    "    img_lr = self.lr_transform(img)\n",
    "    img_hr = self.hr_transform(img)\n",
    "\n",
    "    return {\"lr\": img_lr, \"hr\": img_hr}\n"
   ]
  },
  {
   "cell_type": "code",
   "execution_count": 70,
   "metadata": {},
   "outputs": [
    {
     "data": {
      "text/plain": [
       "192599"
      ]
     },
     "execution_count": 70,
     "metadata": {},
     "output_type": "execute_result"
    }
   ],
   "source": []
  },
  {
   "cell_type": "code",
   "execution_count": null,
   "metadata": {},
   "outputs": [],
   "source": [
    "for epoch in range(opt.epoch, opt.n_epochs):\n",
    "    for i, imgs in enumerate(dataloader):\n",
    "\n",
    "        # Configure model input\n",
    "        imgs_lr = Variable(imgs[\"lr\"].type(Tensor))\n",
    "        imgs_hr = Variable(imgs[\"hr\"].type(Tensor))\n",
    "\n",
    "        # Adversarial ground truths\n",
    "        valid = Variable(Tensor(np.ones((imgs_lr.size(0), *discriminator.output_shape))), requires_grad=False)\n",
    "        fake = Variable(Tensor(np.zeros((imgs_lr.size(0), *discriminator.output_shape))), requires_grad=False)\n",
    "\n",
    "        # ------------------\n",
    "        #  Train Generators\n",
    "        # ------------------\n",
    "\n",
    "        optimizer_G.zero_grad()\n",
    "\n",
    "        # Generate a high resolution image from low resolution input\n",
    "        gen_hr = generator(imgs_lr)\n",
    "\n",
    "        # Adversarial loss\n",
    "        loss_GAN = criterion_GAN(discriminator(gen_hr), valid)\n",
    "\n",
    "        # Content loss\n",
    "        gen_features = feature_extractor(gen_hr)\n",
    "        real_features = feature_extractor(imgs_hr)\n",
    "        loss_content = criterion_content(gen_features, real_features.detach())\n",
    "\n",
    "        # Total loss\n",
    "        loss_G = loss_content + 1e-3 * loss_GAN\n",
    "\n",
    "        loss_G.backward()\n",
    "        optimizer_G.step()\n",
    "\n",
    "        # ---------------------\n",
    "        #  Train Discriminator\n",
    "        # ---------------------\n",
    "\n",
    "        optimizer_D.zero_grad()\n",
    "\n",
    "        # Loss of real and fake images\n",
    "        loss_real = criterion_GAN(discriminator(imgs_hr), valid)\n",
    "        loss_fake = criterion_GAN(discriminator(gen_hr.detach()), fake)\n",
    "\n",
    "        # Total loss\n",
    "        loss_D = (loss_real + loss_fake) / 2\n",
    "\n",
    "        loss_D.backward()\n",
    "        optimizer_D.step()\n",
    "\n",
    "        # --------------\n",
    "        #  Log Progress\n",
    "        # --------------\n",
    "\n",
    "        sys.stdout.write(\n",
    "            \"[Epoch %d/%d] [Batch %d/%d] [D loss: %f] [G loss: %f]\"\n",
    "            % (epoch, opt.n_epochs, i, len(dataloader), loss_D.item(), loss_G.item())\n",
    "        )\n",
    "\n",
    "        batches_done = epoch * len(dataloader) + i\n",
    "        if batches_done % opt.sample_interval == 0:\n",
    "            # Save image grid with upsampled inputs and SRGAN outputs\n",
    "            imgs_lr = nn.functional.interpolate(imgs_lr, scale_factor=4)\n",
    "            gen_hr = make_grid(gen_hr, nrow=1, normalize=True)\n",
    "            imgs_lr = make_grid(imgs_lr, nrow=1, normalize=True)\n",
    "            img_grid = torch.cat((imgs_lr, gen_hr), -1)\n",
    "            save_image(img_grid, \"images/%d.png\" % batches_done, normalize=False)\n",
    "\n",
    "    if opt.checkpoint_interval != -1 and epoch % opt.checkpoint_interval == 0:\n",
    "        # Save model checkpoints\n",
    "        torch.save(generator.state_dict(), \"saved_models/generator_%d.pth\" % epoch)\n",
    "        torch.save(discriminator.state_dict(), \"saved_models/discriminator_%d.pth\" % epoch)\n"
   ]
  }
 ],
 "metadata": {
  "kernelspec": {
   "display_name": "Python 3",
   "language": "python",
   "name": "python3"
  },
  "language_info": {
   "codemirror_mode": {
    "name": "ipython",
    "version": 3
   },
   "file_extension": ".py",
   "mimetype": "text/x-python",
   "name": "python",
   "nbconvert_exporter": "python",
   "pygments_lexer": "ipython3",
   "version": "3.6.7"
  }
 },
 "nbformat": 4,
 "nbformat_minor": 2
}
